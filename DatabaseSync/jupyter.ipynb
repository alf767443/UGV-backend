{
 "cells": [
  {
   "cell_type": "code",
   "execution_count": 7,
   "metadata": {},
   "outputs": [],
   "source": [
    "#!/usr/bin/env python3\n",
    "\n",
    "# Global imports\n",
    "from GlobalSets.Mongo import Clients as MongoClient, DataBases as db, Collections as col\n",
    "import GlobalSets.c2l_functions as c2l\n",
    "\n",
    "# Import librarys\n",
    "from pymongo import collection, errors\n",
    "import bson\n",
    "\n",
    "def local2cloud():\n",
    "    while(True):\n",
    "        for collection in col.Collections:\n",
    "                c2l.downloadBase(database=db.dbBuffer, collection=collection['name'])\n",
    "\n",
    "if __name__ == '__main__':\n",
    "    try:\n",
    "        local2cloud()\n",
    "    except Exception:\n",
    "        pass\n"
   ]
  },
  {
   "cell_type": "code",
   "execution_count": null,
   "metadata": {},
   "outputs": [],
   "source": [
    "#!/usr/bin/env python3\n",
    "\n",
    "# Global imports\n",
    "from GlobalSets.Mongo import Clients as MongoClient, DataBases as db, Collections as col\n",
    "\n",
    "# Import librarys\n",
    "from pymongo import collection, errors\n",
    "from bson import ObjectId\n",
    "import bson, json, datetime\n",
    "\n",
    "def documentHandler(x):\n",
    "    if isinstance(x, datetime.datetime):\n",
    "        return x.isoformat()\n",
    "    elif isinstance(x, bson.objectid.ObjectId):\n",
    "        return str(x)\n",
    "    else:\n",
    "        raise TypeError(x)\n",
    "\n",
    "def defDiffElements(collection: str):\n",
    "    pipeline = [\n",
    "        {\n",
    "            '$project': {\n",
    "                '_id': 1\n",
    "            }\n",
    "        }\n",
    "    ]\n",
    "    Local = json.loads(json.dumps(list(MongoClient.LocalClient[db.dbDashboard][collection].aggregate(pipeline=pipeline)),default=documentHandler))\n",
    "    Cloud = json.loads(json.dumps(list(MongoClient.CloudClient[db.dbDashboard][collection].aggregate(pipeline=pipeline)),default=documentHandler))\n",
    "\n",
    "    idLocal = [i['_id'] for i in Local]\n",
    "    idCloud = [i['_id'] for i in Cloud]\n",
    "\n",
    "    for i in idLocal:\n",
    "        for j in idCloud:\n",
    "            if i == j:\n",
    "                idLocal.remove(i)\n",
    "                idCloud.remove(j)\n",
    "\n",
    "    for id in idCloud:\n",
    "        try:\n",
    "            if MongoClient.CloudClient.is_primary:\n",
    "                MongoClient.CloudClient[db.dbDashboard][collection].delete_one({'_id': ObjectId(id)})\n",
    "        except Exception as e:\n",
    "            eStr = str(e)\n",
    "            print(eStr) \n",
    "\n",
    "    for id in idLocal:\n",
    "        try:\n",
    "            document =  MongoClient.LocalClient[db.dbDashboard][collection].find_one({'_id': ObjectId(id)})\n",
    "            for upTry in range(0,5):\n",
    "                if MongoClient.CloudClient.is_primary and MongoClient.CloudClient[db.dbDashboard][collection].insert_one(document).acknowledged:\n",
    "                    break\n",
    "        except Exception as e:\n",
    "            eStr = str(e)\n",
    "            print(eStr)  \n",
    "\n",
    "    \n",
    "defDiffElements('Battery_actual')"
   ]
  },
  {
   "cell_type": "code",
   "execution_count": 16,
   "metadata": {},
   "outputs": [
    {
     "ename": "ImportError",
     "evalue": "cannot import name 'DashboardCollections' from 'GlobalSets.Mongo' (/media/andre/98201a4b-9b4b-4da7-aeaa-59369694a00b/GitHub/UGV-backend/DatabaseSync/GlobalSets/Mongo.py)",
     "output_type": "error",
     "traceback": [
      "\u001b[0;31m---------------------------------------------------------------------------\u001b[0m",
      "\u001b[0;31mImportError\u001b[0m                               Traceback (most recent call last)",
      "\u001b[1;32m/media/andre/98201a4b-9b4b-4da7-aeaa-59369694a00b/GitHub/UGV-backend/DatabaseSync/jupyter.ipynb Cell 3\u001b[0m in \u001b[0;36m<cell line: 2>\u001b[0;34m()\u001b[0m\n\u001b[1;32m      <a href='vscode-notebook-cell:/media/andre/98201a4b-9b4b-4da7-aeaa-59369694a00b/GitHub/UGV-backend/DatabaseSync/jupyter.ipynb#X13sZmlsZQ%3D%3D?line=0'>1</a>\u001b[0m \u001b[39m# Global imports\u001b[39m\n\u001b[0;32m----> <a href='vscode-notebook-cell:/media/andre/98201a4b-9b4b-4da7-aeaa-59369694a00b/GitHub/UGV-backend/DatabaseSync/jupyter.ipynb#X13sZmlsZQ%3D%3D?line=1'>2</a>\u001b[0m \u001b[39mfrom\u001b[39;00m \u001b[39mGlobalSets\u001b[39;00m\u001b[39m.\u001b[39;00m\u001b[39mMongo\u001b[39;00m \u001b[39mimport\u001b[39;00m Clients \u001b[39mas\u001b[39;00m MongoClient, DataBases \u001b[39mas\u001b[39;00m db, DashboardCollections \u001b[39mas\u001b[39;00m col\n\u001b[1;32m      <a href='vscode-notebook-cell:/media/andre/98201a4b-9b4b-4da7-aeaa-59369694a00b/GitHub/UGV-backend/DatabaseSync/jupyter.ipynb#X13sZmlsZQ%3D%3D?line=2'>3</a>\u001b[0m \u001b[39mimport\u001b[39;00m \u001b[39mGlobalSets\u001b[39;00m\u001b[39m.\u001b[39;00m\u001b[39ml2c_functions\u001b[39;00m \u001b[39mas\u001b[39;00m \u001b[39ml2c\u001b[39;00m\n\u001b[1;32m      <a href='vscode-notebook-cell:/media/andre/98201a4b-9b4b-4da7-aeaa-59369694a00b/GitHub/UGV-backend/DatabaseSync/jupyter.ipynb#X13sZmlsZQ%3D%3D?line=4'>5</a>\u001b[0m \u001b[39m# Import librarys\u001b[39m\n",
      "\u001b[0;31mImportError\u001b[0m: cannot import name 'DashboardCollections' from 'GlobalSets.Mongo' (/media/andre/98201a4b-9b4b-4da7-aeaa-59369694a00b/GitHub/UGV-backend/DatabaseSync/GlobalSets/Mongo.py)"
     ]
    }
   ],
   "source": [
    "# Global imports\n",
    "from GlobalSets.Mongo import Clients as MongoClient, DataBases as db, DashboardCollections as col\n",
    "import GlobalSets.l2c_functions as l2c\n",
    "\n",
    "# Import librarys\n",
    "from pymongo import collection, errors\n",
    "import bson, datetime, json, bson\n",
    "\n",
    "def documentHandler(x):\n",
    "    if isinstance(x, datetime.datetime):\n",
    "        return x.isoformat()\n",
    "    elif isinstance(x, bson.objectid.ObjectId):\n",
    "        return str(x)\n",
    "    else:\n",
    "        raise TypeError(x)\n",
    "\n",
    "\n",
    "pipelineCol = MongoClient.LocalClient[db.dbDashboard]['pipelines']\n",
    "\n",
    "def newPipeline(name: str, database: str, collection: str, pipeline: dict):\n",
    "    document = {\n",
    "        'name' : name,\n",
    "        'database': database,\n",
    "        'collection': collection,\n",
    "        'pipeline' : pipeline\n",
    "    }\n",
    "    try:\n",
    "        if pipelineCol.insert_one(document=document).acknowledged:\n",
    "            print('Added')\n",
    "    except Exception as e:\n",
    "        eStr = str(e)\n",
    "        print(eStr)\n",
    "\n",
    "def executePipelines():\n",
    "    pipelines = json.loads(json.dumps(list(pipelineCol.find({})),default=documentHandler))\n",
    "    for pipeline in pipelines:\n",
    "        MongoClient.LocalClient[pipeline['database']][pipeline['collection']].aggregate(pipeline=pipeline['pipeline'])\n",
    "\n",
    "executePipelines()\n",
    "            "
   ]
  },
  {
   "cell_type": "code",
   "execution_count": 22,
   "metadata": {},
   "outputs": [
    {
     "name": "stdout",
     "output_type": "stream",
     "text": [
      "Added\n"
     ]
    }
   ],
   "source": [
    "from runPipelines import newPipeline\n",
    "\n",
    "pipeline = [\n",
    "    {\n",
    "        '$sort': {\n",
    "            'dateTime': -1\n",
    "        }\n",
    "    }, {\n",
    "        '$limit': 1\n",
    "    }, {\n",
    "        '$out': {\n",
    "            'db': 'CeDRI_UGV_dashboard', \n",
    "            'coll': 'Battery_actual'\n",
    "        }\n",
    "    }\n",
    "]\n",
    "\n",
    "newPipeline(\"Get actual battery\", \"CeDRI_UGV_buffer\", \"Battery_Data\", pipeline=pipeline)\n",
    "    "
   ]
  },
  {
   "cell_type": "code",
   "execution_count": 23,
   "metadata": {},
   "outputs": [
    {
     "name": "stdout",
     "output_type": "stream",
     "text": [
      "True\n",
      "True\n",
      "True\n",
      "True\n",
      "True\n",
      "True\n",
      "True\n",
      "True\n",
      "True\n",
      "True\n",
      "{'_id': ObjectId('63e235370cd1aeca03619563'), 'dateTime': datetime.datetime(2023, 2, 7, 11, 25, 43, 763465), 'status': 0, 'source': 0, 'command': {'linear': {'x': 1.0, 'y': 0.0, 'z': 0.0}, 'angular': {'x': 0.0, 'y': 0.0, 'z': 3.0}}, 'topic': '/turtle1/cmd_vel', 'msg': 'geometry_msgs/Twist'}\n"
     ]
    }
   ],
   "source": [
    "import pymongo, bson, datetime\n",
    "from GlobalSets.Mongo import Clients as MongoClient, DataBases as db, Collections as col\n",
    "\n",
    "\n",
    "for i in range(0,10):\n",
    "    action = {\n",
    "        '_id': bson.ObjectId(),\n",
    "        'dateTime': datetime.datetime.now(),\n",
    "        'status': 0,\n",
    "        'source': 0,\n",
    "        'command': {\n",
    "            'linear': {\n",
    "                'x': 1.0,\n",
    "                'y': 0.0,\n",
    "                'z': 0.0,\n",
    "            },\n",
    "            'angular': {\n",
    "                'x': 0.0,\n",
    "                'y': 0.0,\n",
    "                'z': 3.0,\n",
    "            }\n",
    "        },\n",
    "        'topic': '/turtle1/cmd_vel',\n",
    "        'msg': 'geometry_msgs/Twist',\n",
    "    }\n",
    "    print(MongoClient.RemoteUnitClient[db.dataLake]['Actions'].insert_one(action).acknowledged)\n",
    "\n",
    "print(action)"
   ]
  },
  {
   "cell_type": "code",
   "execution_count": 25,
   "metadata": {},
   "outputs": [
    {
     "name": "stdout",
     "output_type": "stream",
     "text": [
      "{'_id': ObjectId('6400d26e1f6457c6e47ee729'), 'user': 'default', 'password': '0000', 'dashboardLayout': {'00': 0}}\n"
     ]
    }
   ],
   "source": [
    "from GlobalSets.Mongo import Clients as MongoClient, DataBases as db, Collections as col\n",
    "print(MongoClient.RemoteUnitClient['CeDRI_UGV_dashboard']['config'].find_one_and_update(upsert=True, filter={'user': \"default\"}, update= { '$set': { \"Branch\" : 'ECE'} }, ))"
   ]
  },
  {
   "cell_type": "code",
   "execution_count": null,
   "metadata": {},
   "outputs": [],
   "source": []
  }
 ],
 "metadata": {
  "kernelspec": {
   "display_name": "Python 3",
   "language": "python",
   "name": "python3"
  },
  "language_info": {
   "codemirror_mode": {
    "name": "ipython",
    "version": 3
   },
   "file_extension": ".py",
   "mimetype": "text/x-python",
   "name": "python",
   "nbconvert_exporter": "python",
   "pygments_lexer": "ipython3",
   "version": "3.8.10"
  },
  "orig_nbformat": 4,
  "vscode": {
   "interpreter": {
    "hash": "3a4fd3c0dcbc658b189fbf5814096262f6268a6dc22fca0ed725de03044a0d6b"
   }
  }
 },
 "nbformat": 4,
 "nbformat_minor": 2
}
