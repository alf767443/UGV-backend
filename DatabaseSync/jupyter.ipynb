{
 "cells": [
  {
   "cell_type": "code",
   "execution_count": null,
   "metadata": {},
   "outputs": [],
   "source": [
    "#!/usr/bin/env python3\n",
    "\n",
    "# Global imports\n",
    "from GlobalSets.Mongo import Clients as MongoClient, DataBases as db, Collections as col\n",
    "import GlobalSets.c2l_functions as c2l\n",
    "\n",
    "# Import librarys\n",
    "from pymongo import collection, errors\n",
    "import bson\n",
    "\n",
    "def local2cloud():\n",
    "    while(True):\n",
    "        for collection in col.Collections:\n",
    "                c2l.downloadBase(database=db.dbBuffer, collection=collection['name'])\n",
    "\n",
    "if __name__ == '__main__':\n",
    "    try:\n",
    "        local2cloud()\n",
    "    except Exception:\n",
    "        pass\n"
   ]
  },
  {
   "cell_type": "code",
   "execution_count": null,
   "metadata": {},
   "outputs": [],
   "source": [
    "#!/usr/bin/env python3\n",
    "\n",
    "# Global imports\n",
    "from GlobalSets.Mongo import Clients as MongoClient, DataBases as db, Collections as col\n",
    "\n",
    "# Import librarys\n",
    "from pymongo import collection, errors\n",
    "from bson import ObjectId\n",
    "import bson, json, datetime\n",
    "\n",
    "def documentHandler(x):\n",
    "    if isinstance(x, datetime.datetime):\n",
    "        return x.isoformat()\n",
    "    elif isinstance(x, bson.objectid.ObjectId):\n",
    "        return str(x)\n",
    "    else:\n",
    "        raise TypeError(x)\n",
    "\n",
    "def defDiffElements(collection: str):\n",
    "    pipeline = [\n",
    "        {\n",
    "            '$project': {\n",
    "                '_id': 1\n",
    "            }\n",
    "        }\n",
    "    ]\n",
    "    Local = json.loads(json.dumps(list(MongoClient.LocalClient[db.dbDashboard][collection].aggregate(pipeline=pipeline)),default=documentHandler))\n",
    "    Cloud = json.loads(json.dumps(list(MongoClient.CloudClient[db.dbDashboard][collection].aggregate(pipeline=pipeline)),default=documentHandler))\n",
    "\n",
    "    idLocal = [i['_id'] for i in Local]\n",
    "    idCloud = [i['_id'] for i in Cloud]\n",
    "\n",
    "    for i in idLocal:\n",
    "        for j in idCloud:\n",
    "            if i == j:\n",
    "                idLocal.remove(i)\n",
    "                idCloud.remove(j)\n",
    "\n",
    "    for id in idCloud:\n",
    "        try:\n",
    "            if MongoClient.CloudClient.is_primary:\n",
    "                MongoClient.CloudClient[db.dbDashboard][collection].delete_one({'_id': ObjectId(id)})\n",
    "        except Exception as e:\n",
    "            eStr = str(e)\n",
    "            print(eStr) \n",
    "\n",
    "    for id in idLocal:\n",
    "        try:\n",
    "            document =  MongoClient.LocalClient[db.dbDashboard][collection].find_one({'_id': ObjectId(id)})\n",
    "            for upTry in range(0,5):\n",
    "                if MongoClient.CloudClient.is_primary and MongoClient.CloudClient[db.dbDashboard][collection].insert_one(document).acknowledged:\n",
    "                    break\n",
    "        except Exception as e:\n",
    "            eStr = str(e)\n",
    "            print(eStr)  \n",
    "\n",
    "    \n",
    "defDiffElements('Battery_actual')"
   ]
  },
  {
   "cell_type": "code",
   "execution_count": 26,
   "metadata": {},
   "outputs": [],
   "source": [
    "# Global imports\n",
    "from GlobalSets.Mongo import Clients as MongoClient, DataBases as db, DashboardBases as col\n",
    "import GlobalSets.l2c_functions as l2c\n",
    "\n",
    "# Import librarys\n",
    "from pymongo import collection, errors\n",
    "import bson, datetime, json, bson\n",
    "\n",
    "def documentHandler(x):\n",
    "    if isinstance(x, datetime.datetime):\n",
    "        return x.isoformat()\n",
    "    elif isinstance(x, bson.objectid.ObjectId):\n",
    "        return str(x)\n",
    "    else:\n",
    "        raise TypeError(x)\n",
    "\n",
    "\n",
    "pipelineCol = MongoClient.LocalClient[db.dbDashboard]['pipelines']\n",
    "\n",
    "def newPipeline(name: str, database: str, collection: str, pipeline: dict):\n",
    "    document = {\n",
    "        'name' : name,\n",
    "        'database': database,\n",
    "        'collection': collection,\n",
    "        'pipeline' : pipeline\n",
    "    }\n",
    "    try:\n",
    "        if pipelineCol.insert_one(document=document).acknowledged:\n",
    "            print('Added')\n",
    "    except Exception as e:\n",
    "        eStr = str(e)\n",
    "        print(eStr)\n",
    "\n",
    "def executePipelines():\n",
    "    pipelines = json.loads(json.dumps(list(pipelineCol.find({})),default=documentHandler))\n",
    "    for pipeline in pipelines:\n",
    "        MongoClient.LocalClient[pipeline['database']][pipeline['collection']].aggregate(pipeline=pipeline['pipeline'])\n",
    "\n",
    "            "
   ]
  },
  {
   "cell_type": "code",
   "execution_count": 27,
   "metadata": {},
   "outputs": [
    {
     "name": "stdout",
     "output_type": "stream",
     "text": [
      "Added\n"
     ]
    }
   ],
   "source": [
    "pipeline = [\n",
    "    {\n",
    "        '$sort': {\n",
    "            'dateTime': -1\n",
    "        }\n",
    "    }, {\n",
    "        '$limit': 1\n",
    "    }, {\n",
    "        '$out': {\n",
    "            'db': 'CeDRI_UGV_dashboard', \n",
    "            'coll': 'Battery_actual'\n",
    "        }\n",
    "    }\n",
    "]\n",
    "\n",
    "newPipeline(\"Teste\", \"wah\", \"asd\", pipeline=pipeline)\n",
    "    "
   ]
  },
  {
   "cell_type": "code",
   "execution_count": 32,
   "metadata": {},
   "outputs": [
    {
     "name": "stderr",
     "output_type": "stream",
     "text": [
      "C:\\Users\\andre\\AppData\\Local\\Temp\\ipykernel_29508\\1811477974.py:1: DeprecationWarning: Database.incoming_manipulators() is deprecated\n",
      "  MongoClient.LocalClient[db.dbBuffer].incoming_manipulators\n"
     ]
    },
    {
     "data": {
      "text/plain": [
       "[]"
      ]
     },
     "execution_count": 32,
     "metadata": {},
     "output_type": "execute_result"
    }
   ],
   "source": [
    "MongoClient.LocalClient[db.dbBuffer].incoming_manipulators"
   ]
  },
  {
   "cell_type": "code",
   "execution_count": null,
   "metadata": {},
   "outputs": [],
   "source": []
  }
 ],
 "metadata": {
  "kernelspec": {
   "display_name": "venv",
   "language": "python",
   "name": "python3"
  },
  "language_info": {
   "codemirror_mode": {
    "name": "ipython",
    "version": 3
   },
   "file_extension": ".py",
   "mimetype": "text/x-python",
   "name": "python",
   "nbconvert_exporter": "python",
   "pygments_lexer": "ipython3",
   "version": "3.9.13"
  },
  "orig_nbformat": 4,
  "vscode": {
   "interpreter": {
    "hash": "41ea76fc08e436a553cb7c5a585c4d339de13595b3f07d75f0be7cbe5ed0c79d"
   }
  }
 },
 "nbformat": 4,
 "nbformat_minor": 2
}
