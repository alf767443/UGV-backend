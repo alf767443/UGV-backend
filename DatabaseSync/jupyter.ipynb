{
 "cells": [
  {
   "cell_type": "code",
   "execution_count": null,
   "metadata": {},
   "outputs": [],
   "source": [
    "#!/usr/bin/env python3\n",
    "\n",
    "# Global imports\n",
    "from GlobalSets.Mongo import Clients as MongoClient, DataBases as db, Collections as col\n",
    "import GlobalSets.c2l_functions as c2l\n",
    "\n",
    "# Import librarys\n",
    "from pymongo import collection, errors\n",
    "import bson\n",
    "\n",
    "def local2cloud():\n",
    "    while(True):\n",
    "        for collection in col.Collections:\n",
    "                c2l.downloadBase(database=db.dbBuffer, collection=collection['name'])\n",
    "\n",
    "if __name__ == '__main__':\n",
    "    try:\n",
    "        local2cloud()\n",
    "    except Exception:\n",
    "        pass\n"
   ]
  },
  {
   "cell_type": "code",
   "execution_count": null,
   "metadata": {},
   "outputs": [],
   "source": [
    "#!/usr/bin/env python3\n",
    "\n",
    "# Global imports\n",
    "from GlobalSets.Mongo import Clients as MongoClient, DataBases as db, Collections as col\n",
    "\n",
    "# Import librarys\n",
    "from pymongo import collection, errors\n",
    "from bson import ObjectId\n",
    "import bson, json, datetime\n",
    "\n",
    "def documentHandler(x):\n",
    "    if isinstance(x, datetime.datetime):\n",
    "        return x.isoformat()\n",
    "    elif isinstance(x, bson.objectid.ObjectId):\n",
    "        return str(x)\n",
    "    else:\n",
    "        raise TypeError(x)\n",
    "\n",
    "def defDiffElements(collection: str):\n",
    "    pipeline = [\n",
    "        {\n",
    "            '$project': {\n",
    "                '_id': 1\n",
    "            }\n",
    "        }\n",
    "    ]\n",
    "    Local = json.loads(json.dumps(list(MongoClient.LocalClient[db.dbDashboard][collection].aggregate(pipeline=pipeline)),default=documentHandler))\n",
    "    Cloud = json.loads(json.dumps(list(MongoClient.CloudClient[db.dbDashboard][collection].aggregate(pipeline=pipeline)),default=documentHandler))\n",
    "\n",
    "    idLocal = [i['_id'] for i in Local]\n",
    "    idCloud = [i['_id'] for i in Cloud]\n",
    "\n",
    "    for i in idLocal:\n",
    "        for j in idCloud:\n",
    "            if i == j:\n",
    "                idLocal.remove(i)\n",
    "                idCloud.remove(j)\n",
    "\n",
    "    for id in idCloud:\n",
    "        try:\n",
    "            if MongoClient.CloudClient.is_primary:\n",
    "                MongoClient.CloudClient[db.dbDashboard][collection].delete_one({'_id': ObjectId(id)})\n",
    "        except Exception as e:\n",
    "            eStr = str(e)\n",
    "            print(eStr) \n",
    "\n",
    "    for id in idLocal:\n",
    "        try:\n",
    "            document =  MongoClient.LocalClient[db.dbDashboard][collection].find_one({'_id': ObjectId(id)})\n",
    "            for upTry in range(0,5):\n",
    "                if MongoClient.CloudClient.is_primary and MongoClient.CloudClient[db.dbDashboard][collection].insert_one(document).acknowledged:\n",
    "                    break\n",
    "        except Exception as e:\n",
    "            eStr = str(e)\n",
    "            print(eStr)  \n",
    "\n",
    "    \n",
    "defDiffElements('Battery_actual')"
   ]
  },
  {
   "cell_type": "code",
   "execution_count": 16,
   "metadata": {},
   "outputs": [
    {
     "ename": "ImportError",
     "evalue": "cannot import name 'DashboardCollections' from 'GlobalSets.Mongo' (/media/andre/98201a4b-9b4b-4da7-aeaa-59369694a00b/GitHub/UGV-backend/DatabaseSync/GlobalSets/Mongo.py)",
     "output_type": "error",
     "traceback": [
      "\u001b[0;31m---------------------------------------------------------------------------\u001b[0m",
      "\u001b[0;31mImportError\u001b[0m                               Traceback (most recent call last)",
      "\u001b[1;32m/media/andre/98201a4b-9b4b-4da7-aeaa-59369694a00b/GitHub/UGV-backend/DatabaseSync/jupyter.ipynb Cell 3\u001b[0m in \u001b[0;36m<cell line: 2>\u001b[0;34m()\u001b[0m\n\u001b[1;32m      <a href='vscode-notebook-cell:/media/andre/98201a4b-9b4b-4da7-aeaa-59369694a00b/GitHub/UGV-backend/DatabaseSync/jupyter.ipynb#X13sZmlsZQ%3D%3D?line=0'>1</a>\u001b[0m \u001b[39m# Global imports\u001b[39m\n\u001b[0;32m----> <a href='vscode-notebook-cell:/media/andre/98201a4b-9b4b-4da7-aeaa-59369694a00b/GitHub/UGV-backend/DatabaseSync/jupyter.ipynb#X13sZmlsZQ%3D%3D?line=1'>2</a>\u001b[0m \u001b[39mfrom\u001b[39;00m \u001b[39mGlobalSets\u001b[39;00m\u001b[39m.\u001b[39;00m\u001b[39mMongo\u001b[39;00m \u001b[39mimport\u001b[39;00m Clients \u001b[39mas\u001b[39;00m MongoClient, DataBases \u001b[39mas\u001b[39;00m db, DashboardCollections \u001b[39mas\u001b[39;00m col\n\u001b[1;32m      <a href='vscode-notebook-cell:/media/andre/98201a4b-9b4b-4da7-aeaa-59369694a00b/GitHub/UGV-backend/DatabaseSync/jupyter.ipynb#X13sZmlsZQ%3D%3D?line=2'>3</a>\u001b[0m \u001b[39mimport\u001b[39;00m \u001b[39mGlobalSets\u001b[39;00m\u001b[39m.\u001b[39;00m\u001b[39ml2c_functions\u001b[39;00m \u001b[39mas\u001b[39;00m \u001b[39ml2c\u001b[39;00m\n\u001b[1;32m      <a href='vscode-notebook-cell:/media/andre/98201a4b-9b4b-4da7-aeaa-59369694a00b/GitHub/UGV-backend/DatabaseSync/jupyter.ipynb#X13sZmlsZQ%3D%3D?line=4'>5</a>\u001b[0m \u001b[39m# Import librarys\u001b[39m\n",
      "\u001b[0;31mImportError\u001b[0m: cannot import name 'DashboardCollections' from 'GlobalSets.Mongo' (/media/andre/98201a4b-9b4b-4da7-aeaa-59369694a00b/GitHub/UGV-backend/DatabaseSync/GlobalSets/Mongo.py)"
     ]
    }
   ],
   "source": [
    "# Global imports\n",
    "from GlobalSets.Mongo import Clients as MongoClient, DataBases as db, DashboardCollections as col\n",
    "import GlobalSets.l2c_functions as l2c\n",
    "\n",
    "# Import librarys\n",
    "from pymongo import collection, errors\n",
    "import bson, datetime, json, bson\n",
    "\n",
    "def documentHandler(x):\n",
    "    if isinstance(x, datetime.datetime):\n",
    "        return x.isoformat()\n",
    "    elif isinstance(x, bson.objectid.ObjectId):\n",
    "        return str(x)\n",
    "    else:\n",
    "        raise TypeError(x)\n",
    "\n",
    "\n",
    "pipelineCol = MongoClient.LocalClient[db.dbDashboard]['pipelines']\n",
    "\n",
    "def newPipeline(name: str, database: str, collection: str, pipeline: dict):\n",
    "    document = {\n",
    "        'name' : name,\n",
    "        'database': database,\n",
    "        'collection': collection,\n",
    "        'pipeline' : pipeline\n",
    "    }\n",
    "    try:\n",
    "        if pipelineCol.insert_one(document=document).acknowledged:\n",
    "            print('Added')\n",
    "    except Exception as e:\n",
    "        eStr = str(e)\n",
    "        print(eStr)\n",
    "\n",
    "def executePipelines():\n",
    "    pipelines = json.loads(json.dumps(list(pipelineCol.find({})),default=documentHandler))\n",
    "    for pipeline in pipelines:\n",
    "        MongoClient.LocalClient[pipeline['database']][pipeline['collection']].aggregate(pipeline=pipeline['pipeline'])\n",
    "\n",
    "executePipelines()\n",
    "            "
   ]
  },
  {
   "cell_type": "code",
   "execution_count": 22,
   "metadata": {},
   "outputs": [
    {
     "name": "stdout",
     "output_type": "stream",
     "text": [
      "Added\n"
     ]
    }
   ],
   "source": [
    "from runPipelines import newPipeline\n",
    "\n",
    "pipeline = [\n",
    "    {\n",
    "        '$sort': {\n",
    "            'dateTime': -1\n",
    "        }\n",
    "    }, {\n",
    "        '$limit': 1\n",
    "    }, {\n",
    "        '$out': {\n",
    "            'db': 'CeDRI_UGV_dashboard', \n",
    "            'coll': 'Battery_actual'\n",
    "        }\n",
    "    }\n",
    "]\n",
    "\n",
    "newPipeline(\"Get actual battery\", \"CeDRI_UGV_buffer\", \"Battery_Data\", pipeline=pipeline)\n",
    "    "
   ]
  },
  {
   "cell_type": "code",
   "execution_count": null,
   "metadata": {},
   "outputs": [],
   "source": []
  },
  {
   "cell_type": "code",
   "execution_count": null,
   "metadata": {},
   "outputs": [],
   "source": []
  }
 ],
 "metadata": {
  "kernelspec": {
   "display_name": "Python 3",
   "language": "python",
   "name": "python3"
  },
  "language_info": {
   "codemirror_mode": {
    "name": "ipython",
    "version": 3
   },
   "file_extension": ".py",
   "mimetype": "text/x-python",
   "name": "python",
   "nbconvert_exporter": "python",
   "pygments_lexer": "ipython3",
   "version": "3.8.10 (default, Nov 14 2022, 12:59:47) \n[GCC 9.4.0]"
  },
  "orig_nbformat": 4,
  "vscode": {
   "interpreter": {
    "hash": "916dbcbb3f70747c44a77c7bcd40155683ae19c65e1c03b4aa3499c5328201f1"
   }
  }
 },
 "nbformat": 4,
 "nbformat_minor": 2
}
